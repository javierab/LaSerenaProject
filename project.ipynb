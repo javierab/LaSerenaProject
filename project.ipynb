{
 "cells": [
  {
   "cell_type": "markdown",
   "metadata": {},
   "source": [
    "# Group 1 - Literature Mining to understand the properties of Planet-Hosting Stars"
   ]
  },
  {
   "cell_type": "markdown",
   "metadata": {},
   "source": [
    "Wed, Aug 19: We started looking for data about exoplanets at the exoplanet.eu catalog. When trying to figure out what data should we compare to -the not planet hosting stars- we realized this would be hard, since we can't be sure that a star doesn't hold a planet.\n",
    "We went through the Kepler project, which is trying to find planets exclusively with the transit method. They had a big catalog, labeled by confirmed planets, KOIs (Kepler's Object of Interest) and TCEs (Threshold Crossing Events). When none of this 3 were found, we could consider them as not planet hosting star (yet?).\n",
    "\n",
    "**Write about the columns that seem interesting in the table**\n",
    "\n",
    "So far we plan to look for correlations in this data, and try to find some classification algorithm (trained with Kepler data) to see if exoplanets found with different methods have similar correlations and clusterization. We expect a positive answer!"
   ]
  },
  {
   "cell_type": "code",
   "execution_count": 9,
   "metadata": {
    "collapsed": false
   },
   "outputs": [
    {
     "data": {
      "text/plain": [
       "([<matplotlib.axis.XTick at 0x7fb006207ed0>,\n",
       "  <matplotlib.axis.XTick at 0x7fb0052cad10>,\n",
       "  <matplotlib.axis.XTick at 0x7fb004deb190>,\n",
       "  <matplotlib.axis.XTick at 0x7fb004deb6d0>,\n",
       "  <matplotlib.axis.XTick at 0x7fb004debbd0>,\n",
       "  <matplotlib.axis.XTick at 0x7fb004d72210>,\n",
       "  <matplotlib.axis.XTick at 0x7fb004d72950>,\n",
       "  <matplotlib.axis.XTick at 0x7fb004e98510>,\n",
       "  <matplotlib.axis.XTick at 0x7fb004dc3fd0>,\n",
       "  <matplotlib.axis.XTick at 0x7fb004d7a450>],\n",
       " <a list of 10 Text xticklabel objects>)"
      ]
     },
     "execution_count": 9,
     "metadata": {},
     "output_type": "execute_result"
    }
   ],
   "source": [
    "#a basic correlation matrix plotted with colors.\n",
    "\n",
    "import pandas as pds\n",
    "import numpy as np\n",
    "from numpy import corrcoef, sum, log, arange\n",
    "from pylab import pcolor, show, colorbar, xticks, yticks\n",
    "import os\n",
    "\n",
    "cwd = os.getcwd() + '/'\n",
    "\n",
    "df = pds.read_csv(cwd + 'keplerConfirmed.csv')\n",
    "dc = df.corr()\n",
    "\n",
    "# plotting the correlation matrix\n",
    "pcolor(dc)\n",
    "colorbar()\n",
    "yticks(arange(0.5,10.5),range(0,10))\n",
    "xticks(arange(0.5,10.5),range(0,10))\n",
    "#show() #uncomment this line to see the plot"
   ]
  },
  {
   "cell_type": "code",
   "execution_count": null,
   "metadata": {
    "collapsed": true
   },
   "outputs": [],
   "source": []
  }
 ],
 "metadata": {
  "kernelspec": {
   "display_name": "Python 2",
   "language": "python",
   "name": "python2"
  },
  "language_info": {
   "codemirror_mode": {
    "name": "ipython",
    "version": 2
   },
   "file_extension": ".py",
   "mimetype": "text/x-python",
   "name": "python",
   "nbconvert_exporter": "python",
   "pygments_lexer": "ipython2",
   "version": "2.7.10"
  }
 },
 "nbformat": 4,
 "nbformat_minor": 0
}
