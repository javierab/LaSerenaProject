{
 "cells": [
  {
   "cell_type": "markdown",
   "metadata": {},
   "source": [
    "# Group 1 - Literature Mining to understand the properties of Planet-Hosting Stars"
   ]
  },
  {
   "cell_type": "markdown",
   "metadata": {},
   "source": [
    "Wed, Aug 19: We started looking for data about exoplanets at the exoplanet.eu catalog. When trying to figure out what data should we compare to -the not planet hosting stars- we realized this would be hard, since we can't be sure that a star doesn't hold a planet.\n",
    "We went through the Kepler project, which is trying to find planets exclusively with the transit method. They had a big catalog, labeled by confirmed planets, KOIs (Kepler's Object of Interest) and TCEs (Threshold Crossing Events). When none of this 3 were found, we could consider them as not planet hosting star (yet?).\n",
    "\n",
    "**Write about the columns that seem interesting in the table**\n",
    "\n",
    "So far we plan to look for correlations in this data, and try to find some classification algorithm (trained with Kepler data) to see if exoplanets found with different methods have similar correlations and clusterization. We expect a positive answer!"
   ]
  },
  {
   "cell_type": "code",
   "execution_count": null,
   "metadata": {
    "collapsed": false
   },
   "outputs": [],
   "source": []
  },
  {
   "cell_type": "markdown",
   "metadata": {
    "collapsed": true
   },
   "source": [
    "Amalia said:\n",
    "    - Suggested we have a table structure for all the data\n",
    "    - She's sending the way to query with astroquery to kepler+vizier to compare various measurements of the same star (by unified id?). We can do it with her software (DUNES VO discovery tool) for the confirmed-planet ones, but the limit is too much for the others so we'll have to run it ourselves.\n",
    "    - Suggested things for our queries: CCDM binaries. \n",
    "    - Parameters: T eff, log g, M/H, V sini, period, (age), radial velocity, variability, activity, multiplicity.\n",
    "    - VOSA(50) for checking the quality of measurements and additional infomation for stars. It has a lot of stuff to make sure that we have reliable data."
   ]
  },
  {
   "cell_type": "code",
   "execution_count": null,
   "metadata": {
    "collapsed": true
   },
   "outputs": [],
   "source": []
  }
 ],
 "metadata": {
  "kernelspec": {
   "display_name": "Python 2",
   "language": "python",
   "name": "python2"
  },
  "language_info": {
   "codemirror_mode": {
    "name": "ipython",
    "version": 2
   },
   "file_extension": ".py",
   "mimetype": "text/x-python",
   "name": "python",
   "nbconvert_exporter": "python",
   "pygments_lexer": "ipython2",
   "version": "2.7.10"
  }
 },
 "nbformat": 4,
 "nbformat_minor": 0
}
